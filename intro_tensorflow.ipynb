{
 "cells": [
  {
   "cell_type": "code",
   "execution_count": 1,
   "id": "dying-morrison",
   "metadata": {},
   "outputs": [
    {
     "name": "stdout",
     "output_type": "stream",
     "text": [
      "2.4.0-rc0\n",
      "2.4.0\n"
     ]
    }
   ],
   "source": [
    "import tensorflow as tf \n",
    "from tensorflow import keras\n",
    "print(tf.__version__)\n",
    "print(keras.__version__)"
   ]
  },
  {
   "cell_type": "code",
   "execution_count": 2,
   "id": "subject-meditation",
   "metadata": {},
   "outputs": [
    {
     "name": "stdout",
     "output_type": "stream",
     "text": [
      "Downloading data from https://storage.googleapis.com/tensorflow/tf-keras-datasets/train-labels-idx1-ubyte.gz\n",
      "32768/29515 [=================================] - 0s 0us/step\n",
      "Downloading data from https://storage.googleapis.com/tensorflow/tf-keras-datasets/train-images-idx3-ubyte.gz\n",
      "26427392/26421880 [==============================] - 2s 0us/step\n",
      "Downloading data from https://storage.googleapis.com/tensorflow/tf-keras-datasets/t10k-labels-idx1-ubyte.gz\n",
      "8192/5148 [===============================================] - 0s 1us/step\n",
      "Downloading data from https://storage.googleapis.com/tensorflow/tf-keras-datasets/t10k-images-idx3-ubyte.gz\n",
      "4423680/4422102 [==============================] - 0s 0us/step\n"
     ]
    }
   ],
   "source": [
    "fashion_mnist = keras.datasets.fashion_mnist\n",
    "(X_train_full, y_train_full), (X_test, y_test) = fashion_mnist.load_data()"
   ]
  },
  {
   "cell_type": "code",
   "execution_count": 6,
   "id": "intellectual-massage",
   "metadata": {},
   "outputs": [
    {
     "name": "stdout",
     "output_type": "stream",
     "text": [
      "Training Set Shape:  (60000, 28, 28)\n",
      "Training Set dtype:  uint8\n"
     ]
    }
   ],
   "source": [
    "print(\"Training Set Shape: \", X_train_full.shape)\n",
    "print(\"Training Set dtype: \", X_train_full.dtype)"
   ]
  },
  {
   "cell_type": "code",
   "execution_count": 7,
   "id": "hairy-spoke",
   "metadata": {},
   "outputs": [],
   "source": [
    "# Split and Scale the training set\n",
    "X_valid, X_train = X_train_full[:5000] / 255.0, X_train_full[5000:] / 255.0\n",
    "y_valid, y_train = y_train_full[:5000], y_train_full[5000:]"
   ]
  },
  {
   "cell_type": "code",
   "execution_count": 43,
   "id": "immediate-paste",
   "metadata": {},
   "outputs": [
    {
     "data": {
      "text/plain": [
       "'Coat'"
      ]
     },
     "execution_count": 43,
     "metadata": {},
     "output_type": "execute_result"
    }
   ],
   "source": [
    "# MNIST Labels \n",
    "class_names = [\"T-shirt/top\", \"Trouser\", \"Pullover\", \"Dress\", \"Coat\", \"Sandal\", \"Shirt\", \"Sneaker\", \"Bag\", \"Ankle boot\"]\n",
    "class_names[y_train[0]]"
   ]
  },
  {
   "cell_type": "code",
   "execution_count": 10,
   "id": "negative-destiny",
   "metadata": {},
   "outputs": [
    {
     "name": "stdout",
     "output_type": "stream",
     "text": [
      "Model: \"sequential_1\"\n",
      "_________________________________________________________________\n",
      "Layer (type)                 Output Shape              Param #   \n",
      "=================================================================\n",
      "flatten_1 (Flatten)          (None, 784)               0         \n",
      "_________________________________________________________________\n",
      "dense_2 (Dense)              (None, 300)               235500    \n",
      "_________________________________________________________________\n",
      "dense_3 (Dense)              (None, 100)               30100     \n",
      "_________________________________________________________________\n",
      "dense_4 (Dense)              (None, 10)                1010      \n",
      "=================================================================\n",
      "Total params: 266,610\n",
      "Trainable params: 266,610\n",
      "Non-trainable params: 0\n",
      "_________________________________________________________________\n"
     ]
    }
   ],
   "source": [
    "# Building a Simple Sequential Neural Network \n",
    "# Layer 1 - Input Flatten/Reshape Layer -> Each Input to 1D\n",
    "# Layer 2 - Hidden Dense Layer with 300 Neurons, relu activation\n",
    "# Layer 3 - Hidden Dense Layer with 100 Neurons, relu activation\n",
    "# Layer 4 - Output Layer with 10 Neurons (one for each class), softmax activation\n",
    "\n",
    "model = keras.models.Sequential()\n",
    "model.add(keras.layers.Flatten(input_shape=[28, 28]))\n",
    "model.add(keras.layers.Dense(300, activation='relu'))\n",
    "model.add(keras.layers.Dense(100, activation='relu'))\n",
    "model.add(keras.layers.Dense(10, activation='softmax'))\n",
    "\n",
    "model.summary()"
   ]
  },
  {
   "cell_type": "code",
   "execution_count": 11,
   "id": "critical-combat",
   "metadata": {},
   "outputs": [
    {
     "data": {
      "text/plain": [
       "[<tensorflow.python.keras.layers.core.Flatten at 0x1298c1430>,\n",
       " <tensorflow.python.keras.layers.core.Dense at 0x12988cc70>,\n",
       " <tensorflow.python.keras.layers.core.Dense at 0x1288bc280>,\n",
       " <tensorflow.python.keras.layers.core.Dense at 0x107348490>]"
      ]
     },
     "execution_count": 11,
     "metadata": {},
     "output_type": "execute_result"
    }
   ],
   "source": [
    "model.layers"
   ]
  },
  {
   "cell_type": "code",
   "execution_count": 12,
   "id": "stretch-alliance",
   "metadata": {},
   "outputs": [
    {
     "data": {
      "text/plain": [
       "'dense_2'"
      ]
     },
     "execution_count": 12,
     "metadata": {},
     "output_type": "execute_result"
    }
   ],
   "source": [
    "hidden1 = model.layers[1]\n",
    "hidden1.name"
   ]
  },
  {
   "cell_type": "code",
   "execution_count": 13,
   "id": "distributed-spectrum",
   "metadata": {},
   "outputs": [
    {
     "data": {
      "text/plain": [
       "True"
      ]
     },
     "execution_count": 13,
     "metadata": {},
     "output_type": "execute_result"
    }
   ],
   "source": [
    "model.get_layer('dense_2') is hidden1"
   ]
  },
  {
   "cell_type": "code",
   "execution_count": 14,
   "id": "charming-apartment",
   "metadata": {},
   "outputs": [
    {
     "data": {
      "text/plain": [
       "array([[ 0.06226768, -0.04512075,  0.03763639, ...,  0.00054774,\n",
       "        -0.01289019,  0.0455749 ],\n",
       "       [ 0.04813736, -0.06681715, -0.06095926, ..., -0.06477585,\n",
       "         0.03259063,  0.07379855],\n",
       "       [-0.05928892,  0.00422578,  0.07104243, ..., -0.00722498,\n",
       "         0.01765069,  0.00311299],\n",
       "       ...,\n",
       "       [-0.04032522,  0.04493924,  0.01138504, ...,  0.06114285,\n",
       "         0.01632794,  0.06795675],\n",
       "       [-0.02124541,  0.0146628 ,  0.03485613, ..., -0.01574116,\n",
       "         0.0210005 , -0.036422  ],\n",
       "       [-0.00898516,  0.0524791 ,  0.01227229, ..., -0.05652378,\n",
       "         0.07387827, -0.03989282]], dtype=float32)"
      ]
     },
     "execution_count": 14,
     "metadata": {},
     "output_type": "execute_result"
    }
   ],
   "source": [
    "weights, biases = hidden1.get_weights()\n",
    "weights"
   ]
  },
  {
   "cell_type": "code",
   "execution_count": 15,
   "id": "thermal-ceramic",
   "metadata": {},
   "outputs": [
    {
     "data": {
      "text/plain": [
       "(784, 300)"
      ]
     },
     "execution_count": 15,
     "metadata": {},
     "output_type": "execute_result"
    }
   ],
   "source": [
    "weights.shape"
   ]
  },
  {
   "cell_type": "code",
   "execution_count": 16,
   "id": "monetary-uruguay",
   "metadata": {},
   "outputs": [
    {
     "data": {
      "text/plain": [
       "array([0., 0., 0., 0., 0., 0., 0., 0., 0., 0., 0., 0., 0., 0., 0., 0., 0.,\n",
       "       0., 0., 0., 0., 0., 0., 0., 0., 0., 0., 0., 0., 0., 0., 0., 0., 0.,\n",
       "       0., 0., 0., 0., 0., 0., 0., 0., 0., 0., 0., 0., 0., 0., 0., 0., 0.,\n",
       "       0., 0., 0., 0., 0., 0., 0., 0., 0., 0., 0., 0., 0., 0., 0., 0., 0.,\n",
       "       0., 0., 0., 0., 0., 0., 0., 0., 0., 0., 0., 0., 0., 0., 0., 0., 0.,\n",
       "       0., 0., 0., 0., 0., 0., 0., 0., 0., 0., 0., 0., 0., 0., 0., 0., 0.,\n",
       "       0., 0., 0., 0., 0., 0., 0., 0., 0., 0., 0., 0., 0., 0., 0., 0., 0.,\n",
       "       0., 0., 0., 0., 0., 0., 0., 0., 0., 0., 0., 0., 0., 0., 0., 0., 0.,\n",
       "       0., 0., 0., 0., 0., 0., 0., 0., 0., 0., 0., 0., 0., 0., 0., 0., 0.,\n",
       "       0., 0., 0., 0., 0., 0., 0., 0., 0., 0., 0., 0., 0., 0., 0., 0., 0.,\n",
       "       0., 0., 0., 0., 0., 0., 0., 0., 0., 0., 0., 0., 0., 0., 0., 0., 0.,\n",
       "       0., 0., 0., 0., 0., 0., 0., 0., 0., 0., 0., 0., 0., 0., 0., 0., 0.,\n",
       "       0., 0., 0., 0., 0., 0., 0., 0., 0., 0., 0., 0., 0., 0., 0., 0., 0.,\n",
       "       0., 0., 0., 0., 0., 0., 0., 0., 0., 0., 0., 0., 0., 0., 0., 0., 0.,\n",
       "       0., 0., 0., 0., 0., 0., 0., 0., 0., 0., 0., 0., 0., 0., 0., 0., 0.,\n",
       "       0., 0., 0., 0., 0., 0., 0., 0., 0., 0., 0., 0., 0., 0., 0., 0., 0.,\n",
       "       0., 0., 0., 0., 0., 0., 0., 0., 0., 0., 0., 0., 0., 0., 0., 0., 0.,\n",
       "       0., 0., 0., 0., 0., 0., 0., 0., 0., 0., 0.], dtype=float32)"
      ]
     },
     "execution_count": 16,
     "metadata": {},
     "output_type": "execute_result"
    }
   ],
   "source": [
    "biases"
   ]
  },
  {
   "cell_type": "code",
   "execution_count": 17,
   "id": "abstract-giant",
   "metadata": {},
   "outputs": [
    {
     "data": {
      "text/plain": [
       "(300,)"
      ]
     },
     "execution_count": 17,
     "metadata": {},
     "output_type": "execute_result"
    }
   ],
   "source": [
    "biases.shape"
   ]
  },
  {
   "cell_type": "code",
   "execution_count": 18,
   "id": "ceramic-schema",
   "metadata": {},
   "outputs": [],
   "source": [
    "model.compile(loss=\"sparse_categorical_crossentropy\", optimizer=\"sgd\", metrics=[\"accuracy\"])"
   ]
  },
  {
   "cell_type": "code",
   "execution_count": 19,
   "id": "demanding-thumb",
   "metadata": {},
   "outputs": [
    {
     "name": "stdout",
     "output_type": "stream",
     "text": [
      "Epoch 1/30\n",
      "1719/1719 [==============================] - 1s 547us/step - loss: 0.9847 - accuracy: 0.6910 - val_loss: 0.5487 - val_accuracy: 0.8108\n",
      "Epoch 2/30\n",
      "1719/1719 [==============================] - 1s 475us/step - loss: 0.5056 - accuracy: 0.8246 - val_loss: 0.4327 - val_accuracy: 0.8520\n",
      "Epoch 3/30\n",
      "1719/1719 [==============================] - 1s 474us/step - loss: 0.4423 - accuracy: 0.8456 - val_loss: 0.4733 - val_accuracy: 0.8304\n",
      "Epoch 4/30\n",
      "1719/1719 [==============================] - 1s 473us/step - loss: 0.4187 - accuracy: 0.8541 - val_loss: 0.4016 - val_accuracy: 0.8624\n",
      "Epoch 5/30\n",
      "1719/1719 [==============================] - 1s 473us/step - loss: 0.3964 - accuracy: 0.8613 - val_loss: 0.4044 - val_accuracy: 0.8568\n",
      "Epoch 6/30\n",
      "1719/1719 [==============================] - 1s 473us/step - loss: 0.3719 - accuracy: 0.8683 - val_loss: 0.3876 - val_accuracy: 0.8614\n",
      "Epoch 7/30\n",
      "1719/1719 [==============================] - 1s 494us/step - loss: 0.3688 - accuracy: 0.8691 - val_loss: 0.3642 - val_accuracy: 0.8758\n",
      "Epoch 8/30\n",
      "1719/1719 [==============================] - 1s 478us/step - loss: 0.3579 - accuracy: 0.8753 - val_loss: 0.3525 - val_accuracy: 0.8794\n",
      "Epoch 9/30\n",
      "1719/1719 [==============================] - 1s 487us/step - loss: 0.3409 - accuracy: 0.8787 - val_loss: 0.3568 - val_accuracy: 0.8754\n",
      "Epoch 10/30\n",
      "1719/1719 [==============================] - 1s 481us/step - loss: 0.3321 - accuracy: 0.8811 - val_loss: 0.3381 - val_accuracy: 0.8822\n",
      "Epoch 11/30\n",
      "1719/1719 [==============================] - 1s 473us/step - loss: 0.3244 - accuracy: 0.8830 - val_loss: 0.3310 - val_accuracy: 0.8864\n",
      "Epoch 12/30\n",
      "1719/1719 [==============================] - 1s 487us/step - loss: 0.3191 - accuracy: 0.8866 - val_loss: 0.3359 - val_accuracy: 0.8810\n",
      "Epoch 13/30\n",
      "1719/1719 [==============================] - 1s 478us/step - loss: 0.3078 - accuracy: 0.8919 - val_loss: 0.3330 - val_accuracy: 0.8818\n",
      "Epoch 14/30\n",
      "1719/1719 [==============================] - 1s 472us/step - loss: 0.3038 - accuracy: 0.8900 - val_loss: 0.3296 - val_accuracy: 0.8836\n",
      "Epoch 15/30\n",
      "1719/1719 [==============================] - 1s 474us/step - loss: 0.2968 - accuracy: 0.8935 - val_loss: 0.3328 - val_accuracy: 0.8826\n",
      "Epoch 16/30\n",
      "1719/1719 [==============================] - 1s 473us/step - loss: 0.2847 - accuracy: 0.8968 - val_loss: 0.3188 - val_accuracy: 0.8882\n",
      "Epoch 17/30\n",
      "1719/1719 [==============================] - 1s 473us/step - loss: 0.2850 - accuracy: 0.8983 - val_loss: 0.3306 - val_accuracy: 0.8790\n",
      "Epoch 18/30\n",
      "1719/1719 [==============================] - 1s 473us/step - loss: 0.2726 - accuracy: 0.9022 - val_loss: 0.3127 - val_accuracy: 0.8898\n",
      "Epoch 19/30\n",
      "1719/1719 [==============================] - 1s 478us/step - loss: 0.2736 - accuracy: 0.9010 - val_loss: 0.3106 - val_accuracy: 0.8880\n",
      "Epoch 20/30\n",
      "1719/1719 [==============================] - 1s 473us/step - loss: 0.2671 - accuracy: 0.9052 - val_loss: 0.3139 - val_accuracy: 0.8914\n",
      "Epoch 21/30\n",
      "1719/1719 [==============================] - 1s 473us/step - loss: 0.2616 - accuracy: 0.9050 - val_loss: 0.3187 - val_accuracy: 0.8874\n",
      "Epoch 22/30\n",
      "1719/1719 [==============================] - 1s 472us/step - loss: 0.2583 - accuracy: 0.9071 - val_loss: 0.3089 - val_accuracy: 0.8916\n",
      "Epoch 23/30\n",
      "1719/1719 [==============================] - 1s 474us/step - loss: 0.2578 - accuracy: 0.9078 - val_loss: 0.2987 - val_accuracy: 0.8906\n",
      "Epoch 24/30\n",
      "1719/1719 [==============================] - 1s 474us/step - loss: 0.2494 - accuracy: 0.9113 - val_loss: 0.2978 - val_accuracy: 0.8910\n",
      "Epoch 25/30\n",
      "1719/1719 [==============================] - 1s 474us/step - loss: 0.2477 - accuracy: 0.9110 - val_loss: 0.3164 - val_accuracy: 0.8892\n",
      "Epoch 26/30\n",
      "1719/1719 [==============================] - 1s 479us/step - loss: 0.2373 - accuracy: 0.9140 - val_loss: 0.3169 - val_accuracy: 0.8854\n",
      "Epoch 27/30\n",
      "1719/1719 [==============================] - 1s 474us/step - loss: 0.2387 - accuracy: 0.9147 - val_loss: 0.3006 - val_accuracy: 0.8912\n",
      "Epoch 28/30\n",
      "1719/1719 [==============================] - 1s 472us/step - loss: 0.2322 - accuracy: 0.9166 - val_loss: 0.2976 - val_accuracy: 0.8926\n",
      "Epoch 29/30\n",
      "1719/1719 [==============================] - 1s 476us/step - loss: 0.2262 - accuracy: 0.9182 - val_loss: 0.3061 - val_accuracy: 0.8876\n",
      "Epoch 30/30\n",
      "1719/1719 [==============================] - 1s 476us/step - loss: 0.2247 - accuracy: 0.9178 - val_loss: 0.2994 - val_accuracy: 0.8890\n"
     ]
    }
   ],
   "source": [
    "history = model.fit(X_train, y_train, epochs=30, validation_data=(X_valid, y_valid))"
   ]
  },
  {
   "cell_type": "code",
   "execution_count": 24,
   "id": "tender-donor",
   "metadata": {},
   "outputs": [],
   "source": [
    "import matplotlib.pyplot as plt\n",
    "%matplotlib inline"
   ]
  },
  {
   "cell_type": "code",
   "execution_count": 31,
   "id": "discrete-quick",
   "metadata": {},
   "outputs": [
    {
     "data": {
      "text/plain": [
       "<matplotlib.legend.Legend at 0x1298c1550>"
      ]
     },
     "execution_count": 31,
     "metadata": {},
     "output_type": "execute_result"
    },
    {
     "data": {
      "image/png": "[encoded data removed]",
      "text/plain": [
       "<Figure size 432x288 with 1 Axes>"
      ]
     },
     "metadata": {
      "needs_background": "light"
     },
     "output_type": "display_data"
    }
   ],
   "source": [
    "plt.plot(history.history['loss'], label='loss')\n",
    "plt.plot(history.history['accuracy'], label='accuracy')\n",
    "plt.plot(history.history['val_loss'], label='val_loss')\n",
    "plt.plot(history.history['val_accuracy'], label='val_accuracy')\n",
    "plt.legend()"
   ]
  },
  {
   "cell_type": "code",
   "execution_count": 32,
   "id": "favorite-disposition",
   "metadata": {},
   "outputs": [
    {
     "name": "stdout",
     "output_type": "stream",
     "text": [
      "313/313 [==============================] - 0s 414us/step - loss: 56.9557 - accuracy: 0.1024\n"
     ]
    },
    {
     "data": {
      "text/plain": [
       "[56.95568084716797, 0.10239999741315842]"
      ]
     },
     "execution_count": 32,
     "metadata": {},
     "output_type": "execute_result"
    }
   ],
   "source": [
    "model.evaluate(X_test, y_test)"
   ]
  },
  {
   "cell_type": "code",
   "execution_count": 33,
   "id": "illegal-journey",
   "metadata": {},
   "outputs": [
    {
     "data": {
      "text/plain": [
       "array([[ 0.0000000e+00,  0.0000000e+00,  0.0000000e+00, -0.0000000e+00,\n",
       "         0.0000000e+00,  0.0000000e+00,  0.0000000e+00,  0.0000000e+00,\n",
       "         0.0000000e+00,  0.0000000e+00],\n",
       "       [ 0.0000000e+00,  0.0000000e+00,  0.0000000e+00,  3.6893488e+19,\n",
       "         0.0000000e+00,  3.6893488e+19,  1.8664662e+08,  2.3549907e+20,\n",
       "         2.4821391e+05,  3.9505281e+30],\n",
       "       [ 6.8885191e+22,  0.0000000e+00,  6.7289760e+08,  9.1757001e+02,\n",
       "         0.0000000e+00,  0.0000000e+00,  2.8125593e+15,  0.0000000e+00,\n",
       "         0.0000000e+00,  3.6893488e+19]], dtype=float32)"
      ]
     },
     "execution_count": 33,
     "metadata": {},
     "output_type": "execute_result"
    }
   ],
   "source": [
    "X_new = X_test[:3]\n",
    "y_proba = model.predict(X_new)\n",
    "y_proba.round(2)"
   ]
  },
  {
   "cell_type": "code",
   "execution_count": 34,
   "id": "different-shelter",
   "metadata": {},
   "outputs": [
    {
     "name": "stderr",
     "output_type": "stream",
     "text": [
      "/Users/ryaneudy/Documents/Workspace/neural-networks-and-deep-learning/venv/lib/python3.8/site-packages/tensorflow/python/keras/engine/sequential.py:450: UserWarning: `model.predict_classes()` is deprecated and will be removed after 2021-01-01. Please use instead:* `np.argmax(model.predict(x), axis=-1)`,   if your model does multi-class classification   (e.g. if it uses a `softmax` last-layer activation).* `(model.predict(x) > 0.5).astype(\"int32\")`,   if your model does binary classification   (e.g. if it uses a `sigmoid` last-layer activation).\n",
      "  warnings.warn('`model.predict_classes()` is deprecated and '\n"
     ]
    },
    {
     "data": {
      "text/plain": [
       "array([2, 9, 0])"
      ]
     },
     "execution_count": 34,
     "metadata": {},
     "output_type": "execute_result"
    }
   ],
   "source": [
    "y_pred = model.predict_classes(X_new)\n",
    "y_pred"
   ]
  },
  {
   "cell_type": "code",
   "execution_count": 46,
   "id": "acceptable-institution",
   "metadata": {},
   "outputs": [
    {
     "name": "stdout",
     "output_type": "stream",
     "text": [
      "Pullover\n",
      "Ankle boot\n",
      "T-shirt/top\n"
     ]
    }
   ],
   "source": [
    "print(class_names[y_pred[0]])\n",
    "print(class_names[y_pred[1]])\n",
    "print(class_names[y_pred[2]])"
   ]
  },
  {
   "cell_type": "code",
   "execution_count": 47,
   "id": "clean-birmingham",
   "metadata": {},
   "outputs": [
    {
     "data": {
      "text/plain": [
       "array([9, 2, 1], dtype=uint8)"
      ]
     },
     "execution_count": 47,
     "metadata": {},
     "output_type": "execute_result"
    }
   ],
   "source": [
    "y_new = y_test[:3]\n",
    "y_new"
   ]
  },
  {
   "cell_type": "code",
   "execution_count": null,
   "id": "timely-drilling",
   "metadata": {},
   "outputs": [],
   "source": []
  }
 ],
 "metadata": {
  "kernelspec": {
   "display_name": "Python 3",
   "language": "python",
   "name": "python3"
  },
  "language_info": {
   "codemirror_mode": {
    "name": "ipython",
    "version": 3
   },
   "file_extension": ".py",
   "mimetype": "text/x-python",
   "name": "python",
   "nbconvert_exporter": "python",
   "pygments_lexer": "ipython3",
   "version": "3.8.7"
  }
 },
 "nbformat": 4,
 "nbformat_minor": 5
}
